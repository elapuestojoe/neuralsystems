{
 "cells": [
  {
   "cell_type": "code",
   "execution_count": 9,
   "metadata": {},
   "outputs": [
    {
     "name": "stdout",
     "output_type": "stream",
     "text": [
      "0.499498570285572 0.4525447758849278\n",
      "0.9021155605150504 -0.3021155605150504 -0.09788443948494961\n"
     ]
    }
   ],
   "source": [
    "import math\n",
    "\n",
    "def sigmoid(h):\n",
    "    return (1/(1+math.exp(-h)))\n",
    "\n",
    "def dsigmoid(x):\n",
    "    return (x*(1 - x))\n",
    "\n",
    "# sample 1\n",
    "\n",
    "#Entrada\n",
    "ji1 = -1\n",
    "ji2 = 1\n",
    "\n",
    "#Salida\n",
    "zeta1 = 0.9\n",
    "zeta2 = 0.1\n",
    "\n",
    "#Umbral (bias)\n",
    "bV = -1\n",
    "bO = -1\n",
    "\n",
    "# Parameters initialization\n",
    "\n",
    "w11 = 0.9\n",
    "w12 = -0.3\n",
    "w1bV = -0.1\n",
    "\n",
    "w21 = 0.8\n",
    "w22 = 0.6\n",
    "w2bV = -0.5\n",
    "\n",
    "W11 = -0.4\n",
    "W12 = -0.7\n",
    "W1bO = -0.5\n",
    "\n",
    "W21 = -0.2\n",
    "W22 = 0.8\n",
    "W2bO = 0.6\n",
    "\n",
    "# Hyperparameters\n",
    "eta = 0.5\n",
    "\n",
    "#forward propagation\n",
    "hV1 = (ji1*w11)+(ji2*w12)+(w1bV*bV)\n",
    "hV2 = (ji1*w21)+(ji2*w22)+(w2bV*bV)\n",
    "\n",
    "V1 = sigmoid(hV1)\n",
    "V2 = sigmoid(hV2)\n",
    "\n",
    "hO1 = (V1*W11)+(W12*V2)+(W1bO*bO)\n",
    "hO2 = (V1*W21)+(W22*V2)+(W2bO*bO)\n",
    "\n",
    "O1 = sigmoid(hO1)\n",
    "O2 = sigmoid(hO2)\n",
    "print(O1, O2)\n",
    "\n",
    "# backpropagation\n",
    "deltaO1 = dsigmoid(O1)*(zeta1-O1)\n",
    "deltaO2 = dsigmoid(O2)*(zeta2-O2)\n",
    "deltaV1 = dsigmoid(V1)*((deltaO1*W11)+(deltaO2*W21))\n",
    "deltaV2 = dsigmoid(V2)*((deltaO1*W12)+(deltaO2*W22))\n",
    "\n",
    "# weight update\n",
    "deltaw11 = eta * deltaV1 * ji1\n",
    "deltaw12 = eta * deltaV1 * ji2\n",
    "deltaw1bV = eta * deltaV1 * bV\n",
    "w11 = w11 + deltaw11\n",
    "w12 = w12 + deltaw12\n",
    "w1bV = w1bV + deltaw1bV\n",
    "print(w11, w12, w1bV)"
   ]
  },
  {
   "cell_type": "code",
   "execution_count": null,
   "metadata": {
    "collapsed": true
   },
   "outputs": [],
   "source": []
  }
 ],
 "metadata": {
  "kernelspec": {
   "display_name": "Python 3",
   "language": "python",
   "name": "python3"
  },
  "language_info": {
   "codemirror_mode": {
    "name": "ipython",
    "version": 3
   },
   "file_extension": ".py",
   "mimetype": "text/x-python",
   "name": "python",
   "nbconvert_exporter": "python",
   "pygments_lexer": "ipython3",
   "version": "3.6.3"
  }
 },
 "nbformat": 4,
 "nbformat_minor": 2
}
