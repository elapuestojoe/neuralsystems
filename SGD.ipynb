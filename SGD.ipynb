{
 "cells": [
  {
   "cell_type": "markdown",
   "metadata": {},
   "source": [
    "# Stochastic Gradient Descent"
   ]
  },
  {
   "cell_type": "code",
   "execution_count": 1,
   "metadata": {},
   "outputs": [],
   "source": [
    "#Import data\n",
    "from sklearn.datasets.mldata import fetch_mldata\n",
    "mnist = fetch_mldata('mnist-original', data_home='./MNIST')"
   ]
  },
  {
   "cell_type": "code",
   "execution_count": 2,
   "metadata": {
    "collapsed": true
   },
   "outputs": [],
   "source": [
    "#Convert it to what we want to predict\n",
    "for i in range(len(mnist.target)):\n",
    "\tif(mnist.target[i]) == 5:\n",
    "\t\tmnist.target[i] = 1\n",
    "\telse:\n",
    "\t\tmnist.target[i] = 0"
   ]
  },
  {
   "cell_type": "code",
   "execution_count": 3,
   "metadata": {},
   "outputs": [],
   "source": [
    "#Normalize data\n",
    "from sklearn.preprocessing import normalize\n",
    "mnist.data = normalize(mnist.data)"
   ]
  },
  {
   "cell_type": "code",
   "execution_count": 4,
   "metadata": {},
   "outputs": [],
   "source": [
    "#Divide into Train/Test\n",
    "from sklearn.model_selection import train_test_split\n",
    "x_train, x_test, y_train, y_test = train_test_split(mnist.data, mnist.target, test_size=0.10, random_state=0)"
   ]
  },
  {
   "cell_type": "code",
   "execution_count": 5,
   "metadata": {
    "collapsed": true
   },
   "outputs": [],
   "source": [
    "#Make array of fives (used in training process)\n",
    "fiveDataset = {\"data\":[], \"target\":[]}\n",
    "for i in range(len(y_train)):\n",
    "\tif(y_train[i]) == 1:\n",
    "\t\tfiveDataset[\"data\"].append(x_train[i])\n",
    "\t\tfiveDataset[\"target\"].append(y_train[i])"
   ]
  },
  {
   "cell_type": "code",
   "execution_count": 6,
   "metadata": {},
   "outputs": [],
   "source": [
    "# Load neural net or create it\n",
    "from pathlib import Path \n",
    "import pickle\n",
    "from bnetwork import Network\n",
    "filename = \"./neuralNetworkSGD.pkl\"\n",
    "neuralNetFile = Path(filename)\n",
    "n = None\n",
    "if neuralNetFile.is_file():\n",
    "\twith open(filename, \"rb\") as inputF:\n",
    "\t\tn = pickle.load(inputF)\n",
    "\t\t# print(\"loading previous net with weights \", n.weights)\n",
    "\t\tprint(\"Loading previous net with NIterations\", n.NIterations)\n",
    "else:\n",
    "\tn = Network([1, 10, 30, 300, 300, 300, 784])\n"
   ]
  },
  {
   "cell_type": "code",
   "execution_count": 7,
   "metadata": {
    "collapsed": true
   },
   "outputs": [],
   "source": [
    "# Set batch size and number of batches\n",
    "batchSize = 1\n",
    "numberOfBatches = 3000"
   ]
  },
  {
   "cell_type": "code",
   "execution_count": 19,
   "metadata": {},
   "outputs": [],
   "source": [
    "#Train\n",
    "import random\n",
    "for batch in range(numberOfBatches):\n",
    "\tfor i in range(batchSize):\n",
    "\t\tj = None\n",
    "\t\tobjective = None\n",
    "\t\tresult = None\n",
    "\n",
    "\t\tif(random.random() >=0.7):\n",
    "\t\t\tj = random.randint(0, len(fiveDataset[\"target\"])-1)\n",
    "\t\t\tobjective = fiveDataset[\"target\"][j]\n",
    "\n",
    "\t\t\tresult = n.feedForward(fiveDataset[\"data\"][j])[0]\n",
    "\t\telse:\n",
    "\t\t\tj = random.randint(0, len(x_train) - 1)\n",
    "\t\t\tobjective = y_train[j]\n",
    "\n",
    "\t\t\tresult = n.feedForward(x_train[j])[0]\n",
    "\n",
    "\t\tn.backPropagate(result, [objective])\n",
    "\tn.updateWeights()"
   ]
  },
  {
   "cell_type": "code",
   "execution_count": 20,
   "metadata": {},
   "outputs": [
    {
     "name": "stdout",
     "output_type": "stream",
     "text": [
      "[2410   16 4574]\n",
      "Correct 0.3442857142857143\n",
      "False positives 0.6534285714285715\n",
      "False negatives 0.002285714285714286\n",
      "Total 7000\n"
     ]
    },
    {
     "data": {
      "image/png": "[encoded data removed]",
      "text/plain": [
       "<matplotlib.figure.Figure at 0x21bfcc44278>"
      ]
     },
     "metadata": {},
     "output_type": "display_data"
    }
   ],
   "source": [
    "#Test code\n",
    "import numpy as np \n",
    "stats = np.array([0,0,0])\n",
    "\n",
    "# Matriz de confusion\n",
    "yResults = []\n",
    "predictedResults = []\n",
    "\n",
    "\n",
    "for j in range(len(x_test)):\n",
    "\n",
    "\tobjective = y_test[j]\n",
    "\n",
    "\tresult = n.feedForward(x_test[j])\n",
    "\ttempResult = result[0]\n",
    "\n",
    "\tif(tempResult >= 0.5):\n",
    "\t\ttempResult = 1.0\n",
    "\telse:\n",
    "\t\ttempResult = 0.0\n",
    "\n",
    "\tyResults.append(y_test[j])\n",
    "\tpredictedResults.append(tempResult)\n",
    "\tstats[int(objective) - int(tempResult)] += 1\n",
    "\n",
    "# Display results\n",
    "print(stats)\n",
    "\n",
    "print(\"Correct {}\".format(stats[0]/sum(stats)))\n",
    "print(\"False positives {}\".format(stats[-1]/sum(stats)))\n",
    "print(\"False negatives {}\".format(stats[1]/sum(stats)))\n",
    "print(\"Total\", sum(stats))\n",
    "\n",
    "# Plot confusion matrix\n",
    "score = stats[0]/sum(stats) #correctas / totales\n",
    "import matplotlib.pyplot as plt\n",
    "import seaborn as sns\n",
    "from sklearn import metrics\n",
    "cm = metrics.confusion_matrix(yResults, predictedResults)\n",
    "plt.figure(figsize=(4,4))\n",
    "sns.heatmap(cm, annot=True, fmt=\".3f\", linewidths=.5, square = True, cmap = 'Blues_r');\n",
    "plt.ylabel('Actual label');\n",
    "plt.xlabel('Predicted label');\n",
    "all_sample_title = 'Accuracy Score: {0}'.format(score)\n",
    "plt.title(all_sample_title, size = 15);\n",
    "plt.show()"
   ]
  },
  {
   "cell_type": "code",
   "execution_count": 14,
   "metadata": {},
   "outputs": [
    {
     "name": "stdout",
     "output_type": "stream",
     "text": [
      "Iterations:  1000\n",
      "Updates:  1000\n"
     ]
    }
   ],
   "source": [
    "#Display stats\n",
    "print(\"Iterations: \", n.NIterations)\n",
    "print(\"Updates: \", n.updates)"
   ]
  },
  {
   "cell_type": "code",
   "execution_count": 10,
   "metadata": {
    "collapsed": true
   },
   "outputs": [],
   "source": [
    "#Save network\n",
    "with open(filename, \"wb\") as output:\n",
    "\tpickle.dump(n, output, pickle.HIGHEST_PROTOCOL)"
   ]
  }
 ],
 "metadata": {
  "kernelspec": {
   "display_name": "Python 3",
   "language": "python",
   "name": "python3"
  },
  "language_info": {
   "codemirror_mode": {
    "name": "ipython",
    "version": 3
   },
   "file_extension": ".py",
   "mimetype": "text/x-python",
   "name": "python",
   "nbconvert_exporter": "python",
   "pygments_lexer": "ipython3",
   "version": "3.6.3"
  }
 },
 "nbformat": 4,
 "nbformat_minor": 2
}
